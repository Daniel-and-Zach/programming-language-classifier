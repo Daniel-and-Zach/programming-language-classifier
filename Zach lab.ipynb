{
 "metadata": {
  "name": "",
  "signature": "sha256:9395c550746ed29dfe2c8e84fdfc01f9f1d4b3287ac8fbee6f5da8ac6eb86e96"
 },
 "nbformat": 3,
 "nbformat_minor": 0,
 "worksheets": [
  {
   "cells": [
    {
     "cell_type": "code",
     "collapsed": false,
     "input": [
      "from make_corpus import get_corpus\n",
      "import numpy as np\n",
      "from sklearn.cross_validation import train_test_split\n",
      "from sklearn.cross_validation import cross_val_score\n",
      "from sklearn.feature_extraction.text import CountVectorizer, TfidfTransformer\n",
      "from sklearn.naive_bayes import GaussianNB\n",
      "from sklearn import metrics\n",
      "from sklearn.pipeline import Pipeline\n",
      "from textblob import TextBlob"
     ],
     "language": "python",
     "metadata": {},
     "outputs": [],
     "prompt_number": 45
    },
    {
     "cell_type": "code",
     "collapsed": false,
     "input": [
      "df = get_corpus(\"training/benchmarks/benchmarksgame/bench/\")"
     ],
     "language": "python",
     "metadata": {},
     "outputs": [],
     "prompt_number": 20
    },
    {
     "cell_type": "code",
     "collapsed": false,
     "input": [
      "df['split text'] = df['Text'].apply(lambda x: x.split())\n",
      "vector_data = df[[\"Textblob\"]]\n",
      "vector_words = vector_data.as_matrix\n",
      "vector_words = np.array(vector_words)"
     ],
     "language": "python",
     "metadata": {},
     "outputs": [],
     "prompt_number": 46
    },
    {
     "cell_type": "code",
     "collapsed": false,
     "input": [
      "def character_frequency(char_or_word, text):\n",
      "    count = 0\n",
      "    "
     ],
     "language": "python",
     "metadata": {},
     "outputs": [],
     "prompt_number": 48
    },
    {
     "cell_type": "code",
     "collapsed": false,
     "input": [
      "train_data = train_data.toarray()"
     ],
     "language": "python",
     "metadata": {},
     "outputs": [
      {
       "ename": "AttributeError",
       "evalue": "'CountVectorizer' object has no attribute 'toarray'",
       "output_type": "pyerr",
       "traceback": [
        "\u001b[0;31m---------------------------------------------------------------------------\u001b[0m\n\u001b[0;31mAttributeError\u001b[0m                            Traceback (most recent call last)",
        "\u001b[0;32m<ipython-input-38-5a6cb927e44b>\u001b[0m in \u001b[0;36m<module>\u001b[0;34m()\u001b[0m\n\u001b[0;32m----> 1\u001b[0;31m \u001b[0mtrain_data\u001b[0m \u001b[0;34m=\u001b[0m \u001b[0mtrain_data\u001b[0m\u001b[0;34m.\u001b[0m\u001b[0mtoarray\u001b[0m\u001b[0;34m(\u001b[0m\u001b[0;34m)\u001b[0m\u001b[0;34m\u001b[0m\u001b[0m\n\u001b[0m",
        "\u001b[0;31mAttributeError\u001b[0m: 'CountVectorizer' object has no attribute 'toarray'"
       ]
      }
     ],
     "prompt_number": 38
    },
    {
     "cell_type": "markdown",
     "metadata": {},
     "source": [
      "##Puncuation or words to make features of:"
     ]
    },
    {
     "cell_type": "raw",
     "metadata": {},
     "source": [
      "!\n",
      "()\n",
      ";\n",
      ":\n",
      "def\n",
      "defn\n",
      "$\n",
      "@\n",
      "java\n",
      "//\n",
      ";;\n",
      "Object\n",
      "var\n",
      "try\n",
      "except\n",
      "class\n",
      "return\n",
      "self\n",
      "php\n",
      "public\n",
      "static\n",
      "Body\n",
      "val"
     ]
    },
    {
     "cell_type": "code",
     "collapsed": false,
     "input": [],
     "language": "python",
     "metadata": {},
     "outputs": []
    }
   ],
   "metadata": {}
  }
 ]
}